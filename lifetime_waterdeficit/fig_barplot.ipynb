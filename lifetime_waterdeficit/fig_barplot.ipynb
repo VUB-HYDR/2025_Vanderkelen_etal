{
 "cells": [
  {
   "cell_type": "markdown",
   "id": "dfe3e2cd-80be-4a64-8a38-2b2f26f274ea",
   "metadata": {},
   "source": [
    "# Main Plotting of liftetime exposure for water scarcity -- remake\n",
    "For water scarcity\n",
    "Main script for plotting, does analysis based on script"
   ]
  },
  {
   "cell_type": "code",
   "execution_count": 1,
   "id": "b99d830e-25ab-4248-9890-bc7f0b608fae",
   "metadata": {},
   "outputs": [],
   "source": [
    "import os\n",
    "import xarray as xr\n",
    "import pickle as pk\n",
    "import time\n",
    "import matplotlib as mpl\n",
    "import matplotlib.colors as colors\n",
    "import cartopy.crs as ccrs\n",
    "import cartopy.feature as cfeature\n",
    "import numpy as np\n",
    "\n",
    "from settings import *\n",
    "from load_manip import *\n",
    "from exposure import * \n",
    "from utils import *\n",
    "from main_function import *\n",
    "\n",
    "# Script to plot countries\n",
    "from plotting import *\n",
    "\n",
    "# set own plotting parameters\n",
    "set_plot_param()\n",
    "map_proj = ccrs.Robinson(central_longitude=0, globe=None)\n",
    "\n",
    "%matplotlib inline "
   ]
  },
  {
   "cell_type": "code",
   "execution_count": 2,
   "id": "075e9076",
   "metadata": {},
   "outputs": [
    {
     "name": "stdout",
     "output_type": "stream",
     "text": [
      "/data/brussel/100/vsc10055/miniconda3/envs/env_waterscarcity/lib/python3.11/site-packages/xarray/__init__.py\n"
     ]
    }
   ],
   "source": [
    "print(xr.__file__)"
   ]
  },
  {
   "cell_type": "code",
   "execution_count": 3,
   "id": "21c9f5d1-a46d-4e50-a653-2663caa7d148",
   "metadata": {},
   "outputs": [],
   "source": [
    "# extreme event\n",
    "global flags\n",
    "\n",
    "flags = {}\n",
    "flags['extr'] = 'waterdeficit'   # 0: all\n",
    "                                  # 2: cropfailedarea\n",
    "                                  # 3: waterscarcity\n",
    "                                  # 4: falkenmark \n",
    "                                  # 5: water deficit\n",
    "flags['mode'] = 'exposure'   # whether to calculate exposure, duration, intensity or all. \n",
    "\n",
    "flags['runs'] = 0           # 0: do not process ISIMIP runs (i.e. load runs pickle)\n",
    "                            # 1: process ISIMIP runs (i.e. produce and save runs as pickle)\n",
    "flags['mask'] = 0           # 0: do not process country data (i.e. load masks pickle)\n",
    "                            # 1: process country data (i.e. produce and save masks as pickle)\n",
    "flags['exposure'] = 0     # 0: do not process ISIMIP runs to compute exposure (i.e. load exposure pickle)\n",
    "                            # 1: process ISIMIP runs to compute exposure (i.e. produce and save exposure as pickle)\n",
    "flags['exposure_pic'] = 0   # 0: do not process ISIMIP runs to compute picontrol exposure (i.e. load exposure pickle)\n",
    "                            # 1: process ISIMIP runs to compute picontrol exposure (i.e. produce and save exposure as pickle)\n",
    "flags['expectancy'] = 0     # 0: Load varying life expectancies\n",
    "                            # 1: Constant life expectancies at 1960 levels\n",
    "\n",
    "    \n",
    "flag_region = 'world'    \n",
    "regions = ['East Asia & Pacific', 'Europe & Central Asia', 'Latin America & Caribbean', 'Middle East & North Africa', 'North America', 'South Asia', 'Sub-Saharan Africa']\n",
    "\n",
    "regions_abbrevs = {'world': ['EASP','EUCA','LAMC','MENA','NAM','SAS','SSA']}\n",
    "\n",
    "BE_colors = ['gold','darkorange','crimson', 'maroon', 'purple']\n",
    "\n",
    "labels = ['A','B','C','D','E','F','G','H','F']\n",
    "\n",
    "\n",
    "#cohort_classes       = [[0,4],[5,9],[10,14],[15,19],[20,24],[25,29],[30,34],[35,39],[40,44],[45,49],[50,54],[55,59],[60]]\n",
    "#cohort_classes_label = np.arange(0,65,5)\n"
   ]
  },
  {
   "cell_type": "markdown",
   "id": "b40aa708-dec9-45e8-8868-7b717ff2eea3",
   "metadata": {},
   "source": [
    "### Load and manipulate  files for plotting\n",
    "\n",
    "TO DO - delete what is not used"
   ]
  },
  {
   "cell_type": "code",
   "execution_count": 4,
   "id": "90ec0a9b-8ac9-4dbe-ad97-5bbae47fdaea",
   "metadata": {},
   "outputs": [
    {
     "name": "stderr",
     "output_type": "stream",
     "text": [
      "/data/brussel/100/vsc10055/miniconda3/envs/env_waterscarcity/lib/python3.11/pickle.py:1718: UserWarning: Unpickling a shapely <2.0 geometry object. Please save the pickle again as this compatibility may be removed in a future version of shapely.\n",
      "  setstate(state)\n",
      "/data/brussel/100/vsc10055/miniconda3/envs/env_waterscarcity/lib/python3.11/pickle.py:1718: UserWarning: Unpickling a shapely <2.0 geometry object. Please save the pickle again as this compatibility may be removed in a future version of shapely.\n",
      "  setstate(state)\n"
     ]
    }
   ],
   "source": [
    "# load country borders (from pickles)\n",
    "\n",
    "d_countries = pd.read_pickle(open('./data/pickles/country_info.pkl', 'rb'))\n",
    "df_countries = d_countries['info_pop']\n",
    "\n",
    "# unpack country information\n",
    "gdf_country_borders = d_countries['borders']\n",
    "\n",
    "# load cohort info\n",
    "d_regions = pd.read_pickle(open('./data/pickles/region_info.pkl', 'rb'))\n"
   ]
  },
  {
   "cell_type": "markdown",
   "id": "6640e1f6-a0e2-4e7c-9e5d-df96704f7eb4",
   "metadata": {
    "tags": []
   },
   "source": [
    "## Load water deficit values and get cohort size per country"
   ]
  },
  {
   "cell_type": "code",
   "execution_count": 5,
   "id": "30b80e78-ea28-4a78-bf63-fd48b910ac24",
   "metadata": {
    "tags": []
   },
   "outputs": [
    {
     "name": "stdout",
     "output_type": "stream",
     "text": [
      "Loading processed country and region data\n"
     ]
    },
    {
     "name": "stderr",
     "output_type": "stream",
     "text": [
      "/data/brussel/100/vsc10055/miniconda3/envs/env_waterscarcity/lib/python3.11/pickle.py:1718: UserWarning: Unpickling a shapely <2.0 geometry object. Please save the pickle again as this compatibility may be removed in a future version of shapely.\n",
      "  setstate(state)\n",
      "/data/brussel/100/vsc10055/miniconda3/envs/env_waterscarcity/lib/python3.11/pickle.py:1718: UserWarning: Unpickling a shapely <2.0 geometry object. Please save the pickle again as this compatibility may be removed in a future version of shapely.\n",
      "  setstate(state)\n"
     ]
    },
    {
     "name": "stdout",
     "output_type": "stream",
     "text": [
      "Loading processed isimip data\n",
      "Loading processed exposures\n"
     ]
    },
    {
     "name": "stderr",
     "output_type": "stream",
     "text": [
      "/data/brussel/100/vsc10055/miniconda3/envs/env_waterscarcity/lib/python3.11/site-packages/numpy/lib/_nanfunctions_impl.py:2019: RuntimeWarning: Degrees of freedom <= 0 for slice.\n",
      "  var = nanvar(a, axis=axis, dtype=dtype, out=out, ddof=ddof,\n",
      "/data/brussel/100/vsc10055/miniconda3/envs/env_waterscarcity/lib/python3.11/site-packages/numpy/lib/_nanfunctions_impl.py:1620: RuntimeWarning: All-NaN slice encountered\n",
      "  return fnb._ureduce(a,\n",
      "/data/brussel/100/vsc10055/miniconda3/envs/env_waterscarcity/lib/python3.11/site-packages/numpy/lib/_nanfunctions_impl.py:2019: RuntimeWarning: Degrees of freedom <= 0 for slice.\n",
      "  var = nanvar(a, axis=axis, dtype=dtype, out=out, ddof=ddof,\n",
      "/data/brussel/100/vsc10055/miniconda3/envs/env_waterscarcity/lib/python3.11/site-packages/numpy/lib/_nanfunctions_impl.py:1620: RuntimeWarning: All-NaN slice encountered\n",
      "  return fnb._ureduce(a,\n",
      "/data/brussel/100/vsc10055/miniconda3/envs/env_waterscarcity/lib/python3.11/site-packages/numpy/lib/_nanfunctions_impl.py:1620: RuntimeWarning: All-NaN slice encountered\n",
      "  return fnb._ureduce(a,\n",
      "/data/brussel/100/vsc10055/miniconda3/envs/env_waterscarcity/lib/python3.11/site-packages/numpy/lib/_nanfunctions_impl.py:2019: RuntimeWarning: Degrees of freedom <= 0 for slice.\n",
      "  var = nanvar(a, axis=axis, dtype=dtype, out=out, ddof=ddof,\n",
      "/data/brussel/100/vsc10055/miniconda3/envs/env_waterscarcity/lib/python3.11/site-packages/numpy/lib/_nanfunctions_impl.py:1620: RuntimeWarning: All-NaN slice encountered\n",
      "  return fnb._ureduce(a,\n",
      "/data/brussel/100/vsc10055/miniconda3/envs/env_waterscarcity/lib/python3.11/site-packages/numpy/lib/_nanfunctions_impl.py:2019: RuntimeWarning: Degrees of freedom <= 0 for slice.\n",
      "  var = nanvar(a, axis=axis, dtype=dtype, out=out, ddof=ddof,\n",
      "/data/brussel/100/vsc10055/miniconda3/envs/env_waterscarcity/lib/python3.11/site-packages/numpy/lib/_nanfunctions_impl.py:1620: RuntimeWarning: All-NaN slice encountered\n",
      "  return fnb._ureduce(a,\n",
      "/data/brussel/100/vsc10055/miniconda3/envs/env_waterscarcity/lib/python3.11/site-packages/numpy/lib/_nanfunctions_impl.py:1620: RuntimeWarning: All-NaN slice encountered\n",
      "  return fnb._ureduce(a,\n",
      "/data/brussel/100/vsc10055/miniconda3/envs/env_waterscarcity/lib/python3.11/site-packages/numpy/lib/_nanfunctions_impl.py:2019: RuntimeWarning: Degrees of freedom <= 0 for slice.\n",
      "  var = nanvar(a, axis=axis, dtype=dtype, out=out, ddof=ddof,\n",
      "/data/brussel/100/vsc10055/miniconda3/envs/env_waterscarcity/lib/python3.11/site-packages/numpy/lib/_nanfunctions_impl.py:1620: RuntimeWarning: All-NaN slice encountered\n",
      "  return fnb._ureduce(a,\n",
      "/data/brussel/100/vsc10055/miniconda3/envs/env_waterscarcity/lib/python3.11/site-packages/numpy/lib/_nanfunctions_impl.py:2019: RuntimeWarning: Degrees of freedom <= 0 for slice.\n",
      "  var = nanvar(a, axis=axis, dtype=dtype, out=out, ddof=ddof,\n",
      "/data/brussel/100/vsc10055/miniconda3/envs/env_waterscarcity/lib/python3.11/site-packages/numpy/lib/_nanfunctions_impl.py:1620: RuntimeWarning: All-NaN slice encountered\n",
      "  return fnb._ureduce(a,\n",
      "/data/brussel/100/vsc10055/miniconda3/envs/env_waterscarcity/lib/python3.11/site-packages/numpy/lib/_nanfunctions_impl.py:1620: RuntimeWarning: All-NaN slice encountered\n",
      "  return fnb._ureduce(a,\n",
      "/data/brussel/100/vsc10055/miniconda3/envs/env_waterscarcity/lib/python3.11/site-packages/numpy/lib/_nanfunctions_impl.py:2019: RuntimeWarning: Degrees of freedom <= 0 for slice.\n",
      "  var = nanvar(a, axis=axis, dtype=dtype, out=out, ddof=ddof,\n",
      "/data/brussel/100/vsc10055/miniconda3/envs/env_waterscarcity/lib/python3.11/site-packages/numpy/lib/_nanfunctions_impl.py:1620: RuntimeWarning: All-NaN slice encountered\n",
      "  return fnb._ureduce(a,\n",
      "/data/brussel/100/vsc10055/miniconda3/envs/env_waterscarcity/lib/python3.11/site-packages/numpy/lib/_nanfunctions_impl.py:2019: RuntimeWarning: Degrees of freedom <= 0 for slice.\n",
      "  var = nanvar(a, axis=axis, dtype=dtype, out=out, ddof=ddof,\n",
      "/data/brussel/100/vsc10055/miniconda3/envs/env_waterscarcity/lib/python3.11/site-packages/numpy/lib/_nanfunctions_impl.py:1620: RuntimeWarning: All-NaN slice encountered\n",
      "  return fnb._ureduce(a,\n",
      "/data/brussel/100/vsc10055/miniconda3/envs/env_waterscarcity/lib/python3.11/site-packages/numpy/lib/_nanfunctions_impl.py:1620: RuntimeWarning: All-NaN slice encountered\n",
      "  return fnb._ureduce(a,\n"
     ]
    },
    {
     "name": "stdout",
     "output_type": "stream",
     "text": [
      "Loading processed country and region data\n"
     ]
    },
    {
     "name": "stderr",
     "output_type": "stream",
     "text": [
      "/data/brussel/100/vsc10055/miniconda3/envs/env_waterscarcity/lib/python3.11/pickle.py:1718: UserWarning: Unpickling a shapely <2.0 geometry object. Please save the pickle again as this compatibility may be removed in a future version of shapely.\n",
      "  setstate(state)\n",
      "/data/brussel/100/vsc10055/miniconda3/envs/env_waterscarcity/lib/python3.11/pickle.py:1718: UserWarning: Unpickling a shapely <2.0 geometry object. Please save the pickle again as this compatibility may be removed in a future version of shapely.\n",
      "  setstate(state)\n"
     ]
    },
    {
     "name": "stdout",
     "output_type": "stream",
     "text": [
      "Loading processed isimip data\n",
      "Loading processed exposures\n"
     ]
    },
    {
     "name": "stderr",
     "output_type": "stream",
     "text": [
      "/data/brussel/100/vsc10055/miniconda3/envs/env_waterscarcity/lib/python3.11/site-packages/numpy/lib/_nanfunctions_impl.py:2019: RuntimeWarning: Degrees of freedom <= 0 for slice.\n",
      "  var = nanvar(a, axis=axis, dtype=dtype, out=out, ddof=ddof,\n",
      "/data/brussel/100/vsc10055/miniconda3/envs/env_waterscarcity/lib/python3.11/site-packages/numpy/lib/_nanfunctions_impl.py:1620: RuntimeWarning: All-NaN slice encountered\n",
      "  return fnb._ureduce(a,\n",
      "/data/brussel/100/vsc10055/miniconda3/envs/env_waterscarcity/lib/python3.11/site-packages/numpy/lib/_nanfunctions_impl.py:2019: RuntimeWarning: Degrees of freedom <= 0 for slice.\n",
      "  var = nanvar(a, axis=axis, dtype=dtype, out=out, ddof=ddof,\n",
      "/data/brussel/100/vsc10055/miniconda3/envs/env_waterscarcity/lib/python3.11/site-packages/numpy/lib/_nanfunctions_impl.py:1620: RuntimeWarning: All-NaN slice encountered\n",
      "  return fnb._ureduce(a,\n",
      "/data/brussel/100/vsc10055/miniconda3/envs/env_waterscarcity/lib/python3.11/site-packages/numpy/lib/_nanfunctions_impl.py:1620: RuntimeWarning: All-NaN slice encountered\n",
      "  return fnb._ureduce(a,\n",
      "/data/brussel/100/vsc10055/miniconda3/envs/env_waterscarcity/lib/python3.11/site-packages/numpy/lib/_nanfunctions_impl.py:2019: RuntimeWarning: Degrees of freedom <= 0 for slice.\n",
      "  var = nanvar(a, axis=axis, dtype=dtype, out=out, ddof=ddof,\n",
      "/data/brussel/100/vsc10055/miniconda3/envs/env_waterscarcity/lib/python3.11/site-packages/numpy/lib/_nanfunctions_impl.py:1620: RuntimeWarning: All-NaN slice encountered\n",
      "  return fnb._ureduce(a,\n",
      "/data/brussel/100/vsc10055/miniconda3/envs/env_waterscarcity/lib/python3.11/site-packages/numpy/lib/_nanfunctions_impl.py:2019: RuntimeWarning: Degrees of freedom <= 0 for slice.\n",
      "  var = nanvar(a, axis=axis, dtype=dtype, out=out, ddof=ddof,\n",
      "/data/brussel/100/vsc10055/miniconda3/envs/env_waterscarcity/lib/python3.11/site-packages/numpy/lib/_nanfunctions_impl.py:1620: RuntimeWarning: All-NaN slice encountered\n",
      "  return fnb._ureduce(a,\n",
      "/data/brussel/100/vsc10055/miniconda3/envs/env_waterscarcity/lib/python3.11/site-packages/numpy/lib/_nanfunctions_impl.py:1620: RuntimeWarning: All-NaN slice encountered\n",
      "  return fnb._ureduce(a,\n",
      "/data/brussel/100/vsc10055/miniconda3/envs/env_waterscarcity/lib/python3.11/site-packages/numpy/lib/_nanfunctions_impl.py:2019: RuntimeWarning: Degrees of freedom <= 0 for slice.\n",
      "  var = nanvar(a, axis=axis, dtype=dtype, out=out, ddof=ddof,\n",
      "/data/brussel/100/vsc10055/miniconda3/envs/env_waterscarcity/lib/python3.11/site-packages/numpy/lib/_nanfunctions_impl.py:1620: RuntimeWarning: All-NaN slice encountered\n",
      "  return fnb._ureduce(a,\n",
      "/data/brussel/100/vsc10055/miniconda3/envs/env_waterscarcity/lib/python3.11/site-packages/numpy/lib/_nanfunctions_impl.py:2019: RuntimeWarning: Degrees of freedom <= 0 for slice.\n",
      "  var = nanvar(a, axis=axis, dtype=dtype, out=out, ddof=ddof,\n",
      "/data/brussel/100/vsc10055/miniconda3/envs/env_waterscarcity/lib/python3.11/site-packages/numpy/lib/_nanfunctions_impl.py:1620: RuntimeWarning: All-NaN slice encountered\n",
      "  return fnb._ureduce(a,\n",
      "/data/brussel/100/vsc10055/miniconda3/envs/env_waterscarcity/lib/python3.11/site-packages/numpy/lib/_nanfunctions_impl.py:1620: RuntimeWarning: All-NaN slice encountered\n",
      "  return fnb._ureduce(a,\n",
      "/data/brussel/100/vsc10055/miniconda3/envs/env_waterscarcity/lib/python3.11/site-packages/numpy/lib/_nanfunctions_impl.py:2019: RuntimeWarning: Degrees of freedom <= 0 for slice.\n",
      "  var = nanvar(a, axis=axis, dtype=dtype, out=out, ddof=ddof,\n",
      "/data/brussel/100/vsc10055/miniconda3/envs/env_waterscarcity/lib/python3.11/site-packages/numpy/lib/_nanfunctions_impl.py:1620: RuntimeWarning: All-NaN slice encountered\n",
      "  return fnb._ureduce(a,\n",
      "/data/brussel/100/vsc10055/miniconda3/envs/env_waterscarcity/lib/python3.11/site-packages/numpy/lib/_nanfunctions_impl.py:2019: RuntimeWarning: Degrees of freedom <= 0 for slice.\n",
      "  var = nanvar(a, axis=axis, dtype=dtype, out=out, ddof=ddof,\n",
      "/data/brussel/100/vsc10055/miniconda3/envs/env_waterscarcity/lib/python3.11/site-packages/numpy/lib/_nanfunctions_impl.py:1620: RuntimeWarning: All-NaN slice encountered\n",
      "  return fnb._ureduce(a,\n",
      "/data/brussel/100/vsc10055/miniconda3/envs/env_waterscarcity/lib/python3.11/site-packages/numpy/lib/_nanfunctions_impl.py:1620: RuntimeWarning: All-NaN slice encountered\n",
      "  return fnb._ureduce(a,\n",
      "/data/brussel/100/vsc10055/miniconda3/envs/env_waterscarcity/lib/python3.11/site-packages/numpy/lib/_nanfunctions_impl.py:2019: RuntimeWarning: Degrees of freedom <= 0 for slice.\n",
      "  var = nanvar(a, axis=axis, dtype=dtype, out=out, ddof=ddof,\n",
      "/data/brussel/100/vsc10055/miniconda3/envs/env_waterscarcity/lib/python3.11/site-packages/numpy/lib/_nanfunctions_impl.py:1620: RuntimeWarning: All-NaN slice encountered\n",
      "  return fnb._ureduce(a,\n",
      "/data/brussel/100/vsc10055/miniconda3/envs/env_waterscarcity/lib/python3.11/site-packages/numpy/lib/_nanfunctions_impl.py:2019: RuntimeWarning: Degrees of freedom <= 0 for slice.\n",
      "  var = nanvar(a, axis=axis, dtype=dtype, out=out, ddof=ddof,\n",
      "/data/brussel/100/vsc10055/miniconda3/envs/env_waterscarcity/lib/python3.11/site-packages/numpy/lib/_nanfunctions_impl.py:1620: RuntimeWarning: All-NaN slice encountered\n",
      "  return fnb._ureduce(a,\n",
      "/data/brussel/100/vsc10055/miniconda3/envs/env_waterscarcity/lib/python3.11/site-packages/numpy/lib/_nanfunctions_impl.py:1620: RuntimeWarning: All-NaN slice encountered\n",
      "  return fnb._ureduce(a,\n",
      "/data/brussel/100/vsc10055/miniconda3/envs/env_waterscarcity/lib/python3.11/site-packages/numpy/lib/_nanfunctions_impl.py:2019: RuntimeWarning: Degrees of freedom <= 0 for slice.\n",
      "  var = nanvar(a, axis=axis, dtype=dtype, out=out, ddof=ddof,\n",
      "/data/brussel/100/vsc10055/miniconda3/envs/env_waterscarcity/lib/python3.11/site-packages/numpy/lib/_nanfunctions_impl.py:1620: RuntimeWarning: All-NaN slice encountered\n",
      "  return fnb._ureduce(a,\n",
      "/data/brussel/100/vsc10055/miniconda3/envs/env_waterscarcity/lib/python3.11/site-packages/numpy/lib/_nanfunctions_impl.py:2019: RuntimeWarning: Degrees of freedom <= 0 for slice.\n",
      "  var = nanvar(a, axis=axis, dtype=dtype, out=out, ddof=ddof,\n",
      "/data/brussel/100/vsc10055/miniconda3/envs/env_waterscarcity/lib/python3.11/site-packages/numpy/lib/_nanfunctions_impl.py:1620: RuntimeWarning: All-NaN slice encountered\n",
      "  return fnb._ureduce(a,\n",
      "/data/brussel/100/vsc10055/miniconda3/envs/env_waterscarcity/lib/python3.11/site-packages/numpy/lib/_nanfunctions_impl.py:1620: RuntimeWarning: All-NaN slice encountered\n",
      "  return fnb._ureduce(a,\n",
      "/data/brussel/100/vsc10055/miniconda3/envs/env_waterscarcity/lib/python3.11/site-packages/numpy/lib/_nanfunctions_impl.py:2019: RuntimeWarning: Degrees of freedom <= 0 for slice.\n",
      "  var = nanvar(a, axis=axis, dtype=dtype, out=out, ddof=ddof,\n",
      "/data/brussel/100/vsc10055/miniconda3/envs/env_waterscarcity/lib/python3.11/site-packages/numpy/lib/_nanfunctions_impl.py:1620: RuntimeWarning: All-NaN slice encountered\n",
      "  return fnb._ureduce(a,\n",
      "/data/brussel/100/vsc10055/miniconda3/envs/env_waterscarcity/lib/python3.11/site-packages/numpy/lib/_nanfunctions_impl.py:2019: RuntimeWarning: Degrees of freedom <= 0 for slice.\n",
      "  var = nanvar(a, axis=axis, dtype=dtype, out=out, ddof=ddof,\n",
      "/data/brussel/100/vsc10055/miniconda3/envs/env_waterscarcity/lib/python3.11/site-packages/numpy/lib/_nanfunctions_impl.py:1620: RuntimeWarning: All-NaN slice encountered\n",
      "  return fnb._ureduce(a,\n",
      "/data/brussel/100/vsc10055/miniconda3/envs/env_waterscarcity/lib/python3.11/site-packages/numpy/lib/_nanfunctions_impl.py:1620: RuntimeWarning: All-NaN slice encountered\n",
      "  return fnb._ureduce(a,\n",
      "/data/brussel/100/vsc10055/miniconda3/envs/env_waterscarcity/lib/python3.11/site-packages/numpy/lib/_nanfunctions_impl.py:2019: RuntimeWarning: Degrees of freedom <= 0 for slice.\n",
      "  var = nanvar(a, axis=axis, dtype=dtype, out=out, ddof=ddof,\n",
      "/data/brussel/100/vsc10055/miniconda3/envs/env_waterscarcity/lib/python3.11/site-packages/numpy/lib/_nanfunctions_impl.py:1620: RuntimeWarning: All-NaN slice encountered\n",
      "  return fnb._ureduce(a,\n",
      "/data/brussel/100/vsc10055/miniconda3/envs/env_waterscarcity/lib/python3.11/pickle.py:1718: UserWarning: Unpickling a shapely <2.0 geometry object. Please save the pickle again as this compatibility may be removed in a future version of shapely.\n",
      "  setstate(state)\n",
      "/data/brussel/100/vsc10055/miniconda3/envs/env_waterscarcity/lib/python3.11/pickle.py:1718: UserWarning: Unpickling a shapely <2.0 geometry object. Please save the pickle again as this compatibility may be removed in a future version of shapely.\n",
      "  setstate(state)\n",
      "/data/brussel/100/vsc10055/miniconda3/envs/env_waterscarcity/lib/python3.11/pickle.py:1718: UserWarning: Unpickling a shapely <2.0 geometry object. Please save the pickle again as this compatibility may be removed in a future version of shapely.\n",
      "  setstate(state)\n",
      "/data/brussel/100/vsc10055/miniconda3/envs/env_waterscarcity/lib/python3.11/pickle.py:1718: UserWarning: Unpickling a shapely <2.0 geometry object. Please save the pickle again as this compatibility may be removed in a future version of shapely.\n",
      "  setstate(state)\n",
      "/data/brussel/100/vsc10055/miniconda3/envs/env_waterscarcity/lib/python3.11/pickle.py:1718: UserWarning: Unpickling a shapely <2.0 geometry object. Please save the pickle again as this compatibility may be removed in a future version of shapely.\n",
      "  setstate(state)\n",
      "/data/brussel/100/vsc10055/miniconda3/envs/env_waterscarcity/lib/python3.11/pickle.py:1718: UserWarning: Unpickling a shapely <2.0 geometry object. Please save the pickle again as this compatibility may be removed in a future version of shapely.\n",
      "  setstate(state)\n"
     ]
    }
   ],
   "source": [
    "# Load water deficit values \n",
    "ds_pct_waterdeficit, ds_pct_waterdeficit_perregion, a, b = calc_lifetime_waterdeficit(flags)\n"
   ]
  },
  {
   "cell_type": "markdown",
   "id": "c1818fd2-c089-41d3-9a15-82a07b1e68e6",
   "metadata": {},
   "source": [
    "## Per 10 year grouped cohort"
   ]
  },
  {
   "cell_type": "markdown",
   "id": "9e1b6a77-f703-45b8-8f6a-6e8a3cdd366b",
   "metadata": {
    "tags": []
   },
   "source": [
    "### Preprocess cohort distributions and totals, globally and per region"
   ]
  },
  {
   "cell_type": "code",
   "execution_count": 6,
   "id": "9ac5126c-4d4b-4a26-bf18-f6446e520c9a",
   "metadata": {},
   "outputs": [],
   "source": [
    "# get cohort size per country\n",
    "data = {\n",
    "    country: d_countries['cohort_size'][country].loc[2020] * 1000\n",
    "    for country in d_countries['cohort_size']\n",
    "}\n",
    "\n",
    "df_cohortsize_percountry_2020 = pd.DataFrame(data)"
   ]
  },
  {
   "cell_type": "code",
   "execution_count": 7,
   "id": "21359a4d-8909-40e2-883c-4e89e3de5cbe",
   "metadata": {},
   "outputs": [],
   "source": [
    "# Define cohort classes and labels\n",
    "cohort_classes       = [[0,9], [10,19], [20,29], [30,39], [40,49], [50,59]]\n",
    "cohort_classes_label = ['0-9', '10-19', '20-29', '30-39', '40-49', '50-59']\n",
    "\n",
    "# get the cohortsizes per birth year, per region\n",
    "df_pop_perregion = get_cohortsizes_perregion()\n",
    "\n",
    "# group the cohorts into classes (calculate sum of # people within cohorts)\n",
    "df_cohort_grouped = group_cohorts_into_classes(df_pop_perregion, cohort_classes, cohort_classes_label).iloc[::-1]\n",
    "\n",
    "# calculate share of every cohort class for every region\n",
    "cohort_grouped_share = df_cohort_grouped.div(df_cohort_grouped.sum(axis=0), axis=1)\n",
    "\n",
    "# calculate country weights based on total region population\n",
    "d_country_weights = {region: df_countries[df_countries['region']==region]['population'].div(float(df_countries.groupby('region').sum().loc[region]['population'])) for region in regions}\n",
    "d_country_weights['World'] = df_countries['population'] / df_countries['population'].sum()"
   ]
  },
  {
   "cell_type": "markdown",
   "id": "faffb7c8-5234-45d2-8d9f-1b5445fd2406",
   "metadata": {
    "tags": []
   },
   "source": [
    "### Barplot plotting"
   ]
  },
  {
   "cell_type": "code",
   "execution_count": 8,
   "id": "dd26372d-de12-4759-a35c-440a252ec41d",
   "metadata": {
    "tags": []
   },
   "outputs": [],
   "source": [
    "# convert data array into dataframe for plotting\n",
    "var = 'mmm_RCP'\n",
    "df_pct_waterdeficit = pd.DataFrame(ds_pct_waterdeficit[var].values, columns = ds_pct_waterdeficit[var]['country'], index = df_cohortsize_percountry_2020.index)\n",
    "\n",
    "var = 'lqntl_RCP'\n",
    "df_pct_waterdeficit_lqntl = pd.DataFrame(ds_pct_waterdeficit[var].values, columns = ds_pct_waterdeficit[var]['country'], index = df_cohortsize_percountry_2020.index)\n",
    "\n",
    "var = 'uqntl_RCP'\n",
    "df_pct_waterdeficit_uqntl = pd.DataFrame(ds_pct_waterdeficit[var].values, columns = ds_pct_waterdeficit[var]['country'], index = df_cohortsize_percountry_2020.index)"
   ]
  },
  {
   "cell_type": "code",
   "execution_count": 9,
   "id": "c76af1fa-439c-41de-b3fa-a5ee5e43ad20",
   "metadata": {},
   "outputs": [],
   "source": [
    "# per birth year and country calculate number of people above certain lifetime water deficit threshold and then calculate weighted average per region and globally\n",
    "\n",
    "thresholds = [50,75,90] # %\n",
    "thresholds = [50,60,70,80,90] # %\n",
    "\n",
    "d_npeople_ot = {}\n",
    "\n",
    "d_cohortsize_percountry_overthreshold = {}\n",
    "\n",
    "for threshold in thresholds:\n",
    "\n",
    "    df_cohortsize_percountry_overthreshold = df_cohortsize_percountry_2020.where(df_pct_waterdeficit > threshold)\n",
    "    \n",
    "    d_cohortsize_percountry_overthreshold[threshold] = df_cohortsize_percountry_overthreshold\n",
    "\n",
    "    df_npeople_ot_perbirthyear = pd.DataFrame()\n",
    "    \n",
    "    # group the countries by region\n",
    "    for region in regions: \n",
    "\n",
    "        countries_in_region = list(df_countries[df_countries['region'] == region].index)\n",
    "\n",
    "        # calculate the number of people with lifetime water deficit over the threshold per region (based on country average values)\n",
    "        # THIS CALCULATION SHOULD BE THE WEIGHTED SUM\n",
    "        # df_npeople_ot_perbirthyear[region] = (df_cohortsize_percountry_overthreshold[countries_in_region] * d_country_weights[region]).sum(axis =1)\n",
    "        \n",
    "        # this should not be weighted but just be summed? \n",
    "        df_npeople_ot_perbirthyear[region] = (df_cohortsize_percountry_overthreshold[countries_in_region]).sum(axis =1)\n",
    "        \n",
    "\n",
    "    # for the world, weighted based on all countries (not average per region!!!!)\n",
    "    df_npeople_ot_perbirthyear['World'] =  (df_cohortsize_percountry_overthreshold * d_country_weights['World']).sum(axis =1)\n",
    "    df_npeople_ot_perbirthyear['World'] =  (df_cohortsize_percountry_overthreshold).sum(axis =1)\n",
    "\n",
    "\n",
    "    # group number of people per cohort \n",
    "    d_npeople_ot[threshold] = group_cohorts_into_classes(df_npeople_ot_perbirthyear, cohort_classes, cohort_classes_label).iloc[::-1]\n",
    "\n",
    "# turn dictionary into dataset  \n",
    "ds_npeople = xr.concat(\n",
    "    [xr.DataArray(v).rename({'dim_0':'cohort_class','dim_1':'region'}) for v in d_npeople_ot.values()],\n",
    "\n",
    "    dim='threshold').assign_coords({'threshold':list(d_npeople_ot.keys())})"
   ]
  },
  {
   "cell_type": "code",
   "execution_count": 10,
   "id": "7d318dd5-c5ee-4acc-8038-74f5f7a2ef78",
   "metadata": {
    "tags": []
   },
   "outputs": [
    {
     "data": {
      "image/png": "[encoded data removed]",
      "text/plain": [
       "<Figure size 800x500 with 1 Axes>"
      ]
     },
     "metadata": {},
     "output_type": "display_data"
    }
   ],
   "source": [
    "# million people\n",
    "thresholds_to_show = [50, 60, 70, 80]\n",
    "\n",
    "region = 'World'\n",
    "# define burning ember colors\n",
    "\n",
    "fig, ax = plt.subplots(1,1, figsize=(8,5))\n",
    "ax.set_ylabel('million people')\n",
    "ax.set_xlabel('Age in 2020');\n",
    "#ax.set_title('Number of people per age cohort worldwide',loc='right')\n",
    "ax.spines[['right', 'top']].set_visible(False)    \n",
    "\n",
    "ax.set_title('Lifetime water\\ndeficit exceeding',  y=1.0, x=1,loc='left');\n",
    "\n",
    "# get people per threshold for region\n",
    "\n",
    "df_toplot =  pd.DataFrame(ds_npeople.sel(region=region).values.T, index=  ds_npeople.cohort_class.values ,columns =ds_npeople.threshold.values) *1e-6\n",
    "\n",
    "df_toplot.iloc[:,0].plot.bar(ax=ax, color=BE_colors[0], label=str(df_toplot.keys()[0])+' %', rot=0)\n",
    "\n",
    "for n in range(1,len(thresholds_to_show)):\n",
    "    df_toplot.iloc[:,n].plot.bar(ax=ax, color=BE_colors[n],  label=str(df_toplot.keys()[n])+' %', alpha=0.5, rot=0)\n",
    "    \n",
    "leg = ax.legend(bbox_to_anchor=(1,1), loc=\"upper left\",frameon=False)    \n",
    "\n",
    "for lh in leg.legend_handles: lh.set_alpha(1)\n",
    "\n",
    "\n",
    "# get people multiplication factor\n",
    "pmf = df_toplot/df_toplot.iloc[0,:]\n",
    "\n",
    "n=0\n",
    "for j,p in enumerate(ax.patches):\n",
    "    if j < 6: \n",
    "        ax.annotate('x '+str(np.round(pmf.iloc[:,0].values,1)[j]), (p.get_x() + 0.07, p.get_height() + 15))\n",
    "    elif j >= 6 and j < 12: \n",
    "        \n",
    "        ax.annotate('x '+str(np.round(pmf.iloc[:,1].values,1)[j-6]), (p.get_x() + 0.07, p.get_height() + 15))\n",
    "    elif j >= 12 and j < 18: \n",
    "        \n",
    "        ax.annotate('x '+str(np.round(pmf.iloc[:,2].values,1)[j-12]), (p.get_x() + 0.07, p.get_height() + 10))\n",
    "    elif j > 19 and j < 24: \n",
    "        \n",
    "        ax.annotate('x '+str(np.round(pmf.iloc[:,3].values,1)[j-18]), (p.get_x() + 0.07, p.get_height() + 15))\n",
    "        \n",
    "plt.savefig('figures/barplot.png', bbox_inches='tight',dpi=600)\n"
   ]
  },
  {
   "cell_type": "code",
   "execution_count": 11,
   "id": "c26889de",
   "metadata": {},
   "outputs": [
    {
     "ename": "NameError",
     "evalue": "name 'cmap' is not defined",
     "output_type": "error",
     "traceback": [
      "\u001b[31m---------------------------------------------------------------------------\u001b[39m",
      "\u001b[31mNameError\u001b[39m                                 Traceback (most recent call last)",
      "\u001b[36mCell\u001b[39m\u001b[36m \u001b[39m\u001b[32mIn[11]\u001b[39m\u001b[32m, line 6\u001b[39m\n\u001b[32m      3\u001b[39m \u001b[38;5;28;01mfrom\u001b[39;00m\u001b[38;5;250m \u001b[39m\u001b[34;01mmatplotlib\u001b[39;00m\u001b[38;5;250m \u001b[39m\u001b[38;5;28;01mimport\u001b[39;00m cm\n\u001b[32m      5\u001b[39m \u001b[38;5;66;03m# Create colormap and set under and bad values to white\u001b[39;00m\n\u001b[32m----> \u001b[39m\u001b[32m6\u001b[39m cmap_obj = cm.get_cmap(\u001b[43mcmap\u001b[49m).copy()\n\u001b[32m      7\u001b[39m cmap_obj.set_under(\u001b[33m'\u001b[39m\u001b[33mwhite\u001b[39m\u001b[33m'\u001b[39m)  \u001b[38;5;66;03m# for values below the first boundary (0)\u001b[39;00m\n\u001b[32m      8\u001b[39m cmap_obj.set_bad(\u001b[33m'\u001b[39m\u001b[33mwhite\u001b[39m\u001b[33m'\u001b[39m)    \u001b[38;5;66;03m# for NaNs\u001b[39;00m\n",
      "\u001b[31mNameError\u001b[39m: name 'cmap' is not defined"
     ]
    }
   ],
   "source": [
    "# maps of millions of people per threshold. \n",
    "\n",
    "from matplotlib import cm\n",
    "\n",
    "# Create colormap and set under and bad values to white\n",
    "cmap_obj = cm.get_cmap(cmap).copy()\n",
    "cmap_obj.set_under('white')  # for values below the first boundary (0)\n",
    "cmap_obj.set_bad('white')    # for NaNs\n",
    "\n",
    "# settings\n",
    "fig = plt.figure(figsize=(22, 9))  # adjust for 2x2 layout\n",
    "map_proj = ccrs.Robinson()\n",
    "\n",
    "bounds = [1, 1e2, 5e2, 1e3, 5e3, 1e4, 5e4, 1e5]  # adjust color levels depending on your data\n",
    "\n",
    "norm = colors.BoundaryNorm(boundaries=bounds, ncolors=256)\n",
    "cmap = 'YlOrBr'\n",
    "legend_label_base = \"thousand people\"\n",
    "\n",
    "# thresholds to plot\n",
    "thresholds = [50, 60, 70, 80]  # for example\n",
    "cohort_label = '0-9'  # class to plot\n",
    "\n",
    "for i, threshold in enumerate(thresholds):\n",
    "    row = i // 2\n",
    "    col = i % 2\n",
    "\n",
    "    ax = plt.subplot2grid((2, 2), (row, col), projection=map_proj)\n",
    "\n",
    "    # ax settings\n",
    "    ax.axis('off')\n",
    "    ax.coastlines(color='lightgray', linewidth=0.5)\n",
    "    ax.add_feature(cfeature.BORDERS, color='white', linewidth=0.5)\n",
    "    cax = ax.inset_axes((1.02, 0.1, 0.03, 0.9)); #make a color bar axis\n",
    "\n",
    "    # data selection\n",
    "    df_cohortsize_percountry_overthreshold = d_cohortsize_percountry_overthreshold[threshold]\n",
    "    df_percountry_overthreshold_grouped = group_cohorts_into_classes(df_cohortsize_percountry_overthreshold, cohort_classes, cohort_classes_label) * 1e-3\n",
    "    \n",
    "    gdf_overthreshold = gdf_country_borders.merge(df_percountry_overthreshold_grouped.T, left_index=True, right_index=True) \n",
    "    \n",
    "    # plotting\n",
    "    gdf_overthreshold.plot(\n",
    "        ax=ax,\n",
    "        column=cohort_label,\n",
    "        cmap=cmap_obj,          # updated cmap\n",
    "        norm=norm,\n",
    "        legend=True,\n",
    "        cax=cax,\n",
    "        legend_kwds={'label': legend_label_base.format(threshold), 'extend' :'max'},\n",
    "        transform=ccrs.PlateCarree(),\n",
    "        edgecolor='black',\n",
    "        linewidth=0.3,\n",
    "        missing_kwds={\"color\": \"white\"}  # for missing geometries\n",
    "    )\n",
    "\n",
    "    # titles\n",
    "    ax.set_title('Lifetime water deficit exceeds {}%'.format(threshold), loc='right', size=16)\n",
    "    ax.set_title(labels[i], loc='left', size=16)  # a), b), c), d)\n",
    "\n",
    "plt.tight_layout()\n",
    "plt.savefig('figures/threshold_maps.png', bbox_inches='tight',dpi=600)\n",
    "\n",
    "plt.show()\n",
    "\n",
    "\n"
   ]
  },
  {
   "cell_type": "markdown",
   "id": "df1d0bd5",
   "metadata": {},
   "source": [
    "## Values"
   ]
  },
  {
   "cell_type": "code",
   "execution_count": 16,
   "id": "5a6e9ec2-f28d-4c60-ab5a-9b05cca8bedf",
   "metadata": {
    "tags": []
   },
   "outputs": [
    {
     "name": "stdout",
     "output_type": "stream",
     "text": [
      "Number of people 60 and under experiencing 50% lifetime water deficit\n",
      "3738689008.0\n",
      "\n",
      "Percent of world population\n",
      "55.84284628359377\n",
      "\n"
     ]
    }
   ],
   "source": [
    "# get values\n",
    "pop_50pct_under60 = d_npeople_ot[50]['World'].sum()\n",
    "total_pop_under60 = df_cohort_grouped['World'].sum()\n",
    "\n",
    "pct_worldpop_50_waterdeficit = pop_50pct_under60 / total_pop_under60 *100 \n",
    "\n",
    "print('Number of people 60 and under experiencing 50% lifetime water deficit')\n",
    "print(pop_50pct_under60)\n",
    "print()\n",
    "\n",
    "print('Percent of world population')\n",
    "print(pct_worldpop_50_waterdeficit)\n",
    "print()"
   ]
  },
  {
   "cell_type": "code",
   "execution_count": 16,
   "id": "28bdc270",
   "metadata": {},
   "outputs": [
    {
     "data": {
      "text/plain": [
       "np.float64(33.38342)"
      ]
     },
     "execution_count": 16,
     "metadata": {},
     "output_type": "execute_result"
    }
   ],
   "source": [
    "df_toplot.loc[age_category,threshold]"
   ]
  },
  {
   "cell_type": "code",
   "execution_count": 19,
   "id": "abb73fd2",
   "metadata": {},
   "outputs": [
    {
     "name": "stdout",
     "output_type": "stream",
     "text": [
      "466 million people aged 50-59 are expected to experience 50% lifetime water deficit\n",
      "56% of the world cohort\n",
      " \n",
      "706 million people aged 0-9 are expected to experience 50% lifetime water deficit\n",
      "53% of the world cohort\n",
      " \n",
      "16 million people aged 50-59 are expected to experience 80% lifetime water deficit\n",
      "2% of the world cohort\n",
      " \n",
      "40 million people aged 0-9 are expected to experience 80% lifetime water deficit\n",
      "3% of the world cohort\n",
      " \n",
      "10 million people aged 50-59 are expected to experience 90% lifetime water deficit\n",
      "1% of the world cohort\n",
      " \n",
      "33 million people aged 0-9 are expected to experience 90% lifetime water deficit\n",
      "3% of the world cohort\n",
      " \n",
      "multiplication factor 90%: 3.3\n"
     ]
    }
   ],
   "source": [
    "thresholds = [50, 50, 80, 80,90,90]\n",
    "age_categories = ['50-59', '0-9','50-59', '0-9', '50-59', '0-9']\n",
    "\n",
    "for threshold,age_category in zip(thresholds, age_categories):\n",
    "    print(f\"{df_toplot.loc[age_category,threshold]:.0f} million people aged {age_category} are expected to experience {threshold}% lifetime water deficit\")\n",
    "    print(f\"{df_toplot.loc[age_category,threshold] / (df_cohort_grouped.loc[age_category,'World']*1e-6) * 100:.0f}% of the world cohort\")\n",
    "    print(\" \")\n",
    "    \n",
    "print(f\"multiplication factor 90%: {df_toplot.loc[ '0-9',90]/df_toplot.loc['50-59',90]:.1f}\")"
   ]
  },
  {
   "cell_type": "code",
   "execution_count": 73,
   "id": "e05d8ae9-e381-4158-90e0-768b1bcfb2bd",
   "metadata": {},
   "outputs": [
    {
     "data": {
      "text/plain": [
       "3.3"
      ]
     },
     "execution_count": 73,
     "metadata": {},
     "output_type": "execute_result"
    }
   ],
   "source": [
    "33/10"
   ]
  },
  {
   "cell_type": "code",
   "execution_count": null,
   "id": "c2ba897b",
   "metadata": {},
   "outputs": [],
   "source": []
  }
 ],
 "metadata": {
  "kernelspec": {
   "display_name": "env_waterscarcity",
   "language": "python",
   "name": "python3"
  },
  "language_info": {
   "codemirror_mode": {
    "name": "ipython",
    "version": 3
   },
   "file_extension": ".py",
   "mimetype": "text/x-python",
   "name": "python",
   "nbconvert_exporter": "python",
   "pygments_lexer": "ipython3",
   "version": "3.11.12"
  }
 },
 "nbformat": 4,
 "nbformat_minor": 5
}
