{
 "cells": [
  {
   "cell_type": "markdown",
   "id": "dd35d055",
   "metadata": {},
   "source": [
    "# Overview of the code used for the lifetime water deficit analysis"
   ]
  },
  {
   "cell_type": "markdown",
   "id": "4d2fa8db",
   "metadata": {},
   "source": [
    "## 1. Preprocessing isimip data\n",
    "See [preprocessing_isimip](./preprocessing_isimip/) folder\n",
    "\n",
    "### 1.1 Calculate discharge coming from upstream grid cells\n",
    "- [calc_upstream_2b.py](./preprocessing_isimip/calc_upstream_2b.py)\n",
    "\n",
    "### 1.2 Calculate annual water demands and deficits\n",
    "- [preprocess_2b_daily2monthly.py](./preprocessing_isimip/preprocess_2b_daily2monthly.py)\n",
    "- [main_2b.ipynb](./preprocessing_isimip/main_2b.ipynb)\n",
    "\n",
    "### 1.3 Figures and analysis on annual ISIMIP data\n",
    "- [fig_conceptual_waterdeficit](./preprocessing_isimip/fig_conceptual_waterdeficit.ipynb)\n",
    "- [fig_deficit_maps_endofcentury](./preprocessing_isimip/fig_deficit_maps_endofcentury.ipynb)"
   ]
  },
  {
   "cell_type": "markdown",
   "id": "f3d3b9f9",
   "metadata": {},
   "source": [
    "## 2. Lifetime water deficit analysis\n",
    "See [lifetime_waterdeficit](./lifetime_waterdeficit/) folder\n",
    "\n",
    "The data in /data/pickles should suffice for running the scripts"
   ]
  },
  {
   "cell_type": "markdown",
   "id": "5be8d6e4",
   "metadata": {},
   "source": [
    "To do: \n",
    "- list notebooks here"
   ]
  },
  {
   "cell_type": "markdown",
   "id": "e500b0f8",
   "metadata": {},
   "source": []
  }
 ],
 "metadata": {
  "language_info": {
   "name": "python"
  }
 },
 "nbformat": 4,
 "nbformat_minor": 5
}
